{
 "cells": [
  {
   "cell_type": "code",
   "execution_count": 1,
   "id": "27ab75b8",
   "metadata": {},
   "outputs": [
    {
     "name": "stderr",
     "output_type": "stream",
     "text": [
      "\u001b[34m\u001b[1mwandb\u001b[0m: Currently logged in as: \u001b[33mleke\u001b[0m (use `wandb login --relogin` to force relogin)\n",
      "\u001b[34m\u001b[1mwandb\u001b[0m: wandb version 0.12.11 is available!  To upgrade, please run:\n",
      "\u001b[34m\u001b[1mwandb\u001b[0m:  $ pip install wandb --upgrade\n"
     ]
    },
    {
     "data": {
      "text/html": [
       "\n",
       "                    Syncing run <strong><a href=\"https://wandb.ai/leke/nyc_airbnb/runs/3zhaks3d\" target=\"_blank\">ethereal-spaceship-3</a></strong> to <a href=\"https://wandb.ai/leke/nyc_airbnb\" target=\"_blank\">Weights & Biases</a> (<a href=\"https://docs.wandb.com/integrations/jupyter.html\" target=\"_blank\">docs</a>).<br/>\n",
       "\n",
       "                "
      ],
      "text/plain": [
       "<IPython.core.display.HTML object>"
      ]
     },
     "metadata": {},
     "output_type": "display_data"
    }
   ],
   "source": [
    "import wandb\n",
    "import pandas as pd\n",
    "\n",
    "run = wandb.init(project=\"nyc_airbnb\", group=\"eda\", save_code=True)\n",
    "local_path = wandb.use_artifact(\"sample.csv:latest\").file()\n",
    "df = pd.read_csv(local_path)"
   ]
  },
  {
   "cell_type": "markdown",
   "id": "b90e6554",
   "metadata": {},
   "source": [
    "## Check out dataframe sample"
   ]
  },
  {
   "cell_type": "code",
   "execution_count": 2,
   "id": "9da76a95",
   "metadata": {},
   "outputs": [
    {
     "data": {
      "text/html": [
       "<div>\n",
       "<style scoped>\n",
       "    .dataframe tbody tr th:only-of-type {\n",
       "        vertical-align: middle;\n",
       "    }\n",
       "\n",
       "    .dataframe tbody tr th {\n",
       "        vertical-align: top;\n",
       "    }\n",
       "\n",
       "    .dataframe thead th {\n",
       "        text-align: right;\n",
       "    }\n",
       "</style>\n",
       "<table border=\"1\" class=\"dataframe\">\n",
       "  <thead>\n",
       "    <tr style=\"text-align: right;\">\n",
       "      <th></th>\n",
       "      <th>id</th>\n",
       "      <th>name</th>\n",
       "      <th>host_id</th>\n",
       "      <th>host_name</th>\n",
       "      <th>neighbourhood_group</th>\n",
       "      <th>neighbourhood</th>\n",
       "      <th>latitude</th>\n",
       "      <th>longitude</th>\n",
       "      <th>room_type</th>\n",
       "      <th>price</th>\n",
       "      <th>minimum_nights</th>\n",
       "      <th>number_of_reviews</th>\n",
       "      <th>last_review</th>\n",
       "      <th>reviews_per_month</th>\n",
       "      <th>calculated_host_listings_count</th>\n",
       "      <th>availability_365</th>\n",
       "    </tr>\n",
       "  </thead>\n",
       "  <tbody>\n",
       "    <tr>\n",
       "      <th>0</th>\n",
       "      <td>9138664</td>\n",
       "      <td>Private Lg Room 15 min to Manhattan</td>\n",
       "      <td>47594947</td>\n",
       "      <td>Iris</td>\n",
       "      <td>Queens</td>\n",
       "      <td>Sunnyside</td>\n",
       "      <td>40.74271</td>\n",
       "      <td>-73.92493</td>\n",
       "      <td>Private room</td>\n",
       "      <td>74</td>\n",
       "      <td>2</td>\n",
       "      <td>6</td>\n",
       "      <td>2019-05-26</td>\n",
       "      <td>0.13</td>\n",
       "      <td>1</td>\n",
       "      <td>5</td>\n",
       "    </tr>\n",
       "    <tr>\n",
       "      <th>1</th>\n",
       "      <td>31444015</td>\n",
       "      <td>TIME SQUARE CHARMING ONE BED IN HELL'S KITCHEN...</td>\n",
       "      <td>8523790</td>\n",
       "      <td>Johlex</td>\n",
       "      <td>Manhattan</td>\n",
       "      <td>Hell's Kitchen</td>\n",
       "      <td>40.76682</td>\n",
       "      <td>-73.98878</td>\n",
       "      <td>Entire home/apt</td>\n",
       "      <td>170</td>\n",
       "      <td>3</td>\n",
       "      <td>0</td>\n",
       "      <td>NaN</td>\n",
       "      <td>NaN</td>\n",
       "      <td>1</td>\n",
       "      <td>188</td>\n",
       "    </tr>\n",
       "    <tr>\n",
       "      <th>2</th>\n",
       "      <td>8741020</td>\n",
       "      <td>Voted #1 Location Quintessential 1BR W Village...</td>\n",
       "      <td>45854238</td>\n",
       "      <td>John</td>\n",
       "      <td>Manhattan</td>\n",
       "      <td>West Village</td>\n",
       "      <td>40.73631</td>\n",
       "      <td>-74.00611</td>\n",
       "      <td>Entire home/apt</td>\n",
       "      <td>245</td>\n",
       "      <td>3</td>\n",
       "      <td>51</td>\n",
       "      <td>2018-09-19</td>\n",
       "      <td>1.12</td>\n",
       "      <td>1</td>\n",
       "      <td>0</td>\n",
       "    </tr>\n",
       "    <tr>\n",
       "      <th>3</th>\n",
       "      <td>34602077</td>\n",
       "      <td>Spacious 1 bedroom apartment 15min from Manhattan</td>\n",
       "      <td>261055465</td>\n",
       "      <td>Regan</td>\n",
       "      <td>Queens</td>\n",
       "      <td>Astoria</td>\n",
       "      <td>40.76424</td>\n",
       "      <td>-73.92351</td>\n",
       "      <td>Entire home/apt</td>\n",
       "      <td>125</td>\n",
       "      <td>3</td>\n",
       "      <td>1</td>\n",
       "      <td>2019-05-24</td>\n",
       "      <td>0.65</td>\n",
       "      <td>1</td>\n",
       "      <td>13</td>\n",
       "    </tr>\n",
       "    <tr>\n",
       "      <th>4</th>\n",
       "      <td>23203149</td>\n",
       "      <td>Big beautiful bedroom in huge Bushwick apartment</td>\n",
       "      <td>143460</td>\n",
       "      <td>Megan</td>\n",
       "      <td>Brooklyn</td>\n",
       "      <td>Bushwick</td>\n",
       "      <td>40.69839</td>\n",
       "      <td>-73.92044</td>\n",
       "      <td>Private room</td>\n",
       "      <td>65</td>\n",
       "      <td>2</td>\n",
       "      <td>8</td>\n",
       "      <td>2019-06-23</td>\n",
       "      <td>0.52</td>\n",
       "      <td>2</td>\n",
       "      <td>8</td>\n",
       "    </tr>\n",
       "  </tbody>\n",
       "</table>\n",
       "</div>"
      ],
      "text/plain": [
       "         id                                               name    host_id  \\\n",
       "0   9138664                Private Lg Room 15 min to Manhattan   47594947   \n",
       "1  31444015  TIME SQUARE CHARMING ONE BED IN HELL'S KITCHEN...    8523790   \n",
       "2   8741020  Voted #1 Location Quintessential 1BR W Village...   45854238   \n",
       "3  34602077  Spacious 1 bedroom apartment 15min from Manhattan  261055465   \n",
       "4  23203149   Big beautiful bedroom in huge Bushwick apartment     143460   \n",
       "\n",
       "  host_name neighbourhood_group   neighbourhood  latitude  longitude  \\\n",
       "0      Iris              Queens       Sunnyside  40.74271  -73.92493   \n",
       "1    Johlex           Manhattan  Hell's Kitchen  40.76682  -73.98878   \n",
       "2      John           Manhattan    West Village  40.73631  -74.00611   \n",
       "3     Regan              Queens         Astoria  40.76424  -73.92351   \n",
       "4     Megan            Brooklyn        Bushwick  40.69839  -73.92044   \n",
       "\n",
       "         room_type  price  minimum_nights  number_of_reviews last_review  \\\n",
       "0     Private room     74               2                  6  2019-05-26   \n",
       "1  Entire home/apt    170               3                  0         NaN   \n",
       "2  Entire home/apt    245               3                 51  2018-09-19   \n",
       "3  Entire home/apt    125               3                  1  2019-05-24   \n",
       "4     Private room     65               2                  8  2019-06-23   \n",
       "\n",
       "   reviews_per_month  calculated_host_listings_count  availability_365  \n",
       "0               0.13                               1                 5  \n",
       "1                NaN                               1               188  \n",
       "2               1.12                               1                 0  \n",
       "3               0.65                               1                13  \n",
       "4               0.52                               2                 8  "
      ]
     },
     "execution_count": 2,
     "metadata": {},
     "output_type": "execute_result"
    }
   ],
   "source": [
    "df.head()"
   ]
  },
  {
   "cell_type": "code",
   "execution_count": 3,
   "id": "07ef1395",
   "metadata": {},
   "outputs": [
    {
     "data": {
      "text/plain": [
       "320000"
      ]
     },
     "execution_count": 3,
     "metadata": {},
     "output_type": "execute_result"
    }
   ],
   "source": [
    "df.size #check number of rows"
   ]
  },
  {
   "cell_type": "code",
   "execution_count": 4,
   "id": "d2a29f8a",
   "metadata": {},
   "outputs": [
    {
     "data": {
      "text/plain": [
       "16"
      ]
     },
     "execution_count": 4,
     "metadata": {},
     "output_type": "execute_result"
    }
   ],
   "source": [
    "len(df.columns) # count columns length"
   ]
  },
  {
   "cell_type": "markdown",
   "id": "47afa8ea",
   "metadata": {},
   "source": [
    "## Check for missing values and dataframe info"
   ]
  },
  {
   "cell_type": "code",
   "execution_count": 5,
   "id": "a9d0f7e5",
   "metadata": {},
   "outputs": [
    {
     "name": "stdout",
     "output_type": "stream",
     "text": [
      "<class 'pandas.core.frame.DataFrame'>\n",
      "RangeIndex: 20000 entries, 0 to 19999\n",
      "Data columns (total 16 columns):\n",
      " #   Column                          Non-Null Count  Dtype  \n",
      "---  ------                          --------------  -----  \n",
      " 0   id                              20000 non-null  int64  \n",
      " 1   name                            19993 non-null  object \n",
      " 2   host_id                         20000 non-null  int64  \n",
      " 3   host_name                       19992 non-null  object \n",
      " 4   neighbourhood_group             20000 non-null  object \n",
      " 5   neighbourhood                   20000 non-null  object \n",
      " 6   latitude                        20000 non-null  float64\n",
      " 7   longitude                       20000 non-null  float64\n",
      " 8   room_type                       20000 non-null  object \n",
      " 9   price                           20000 non-null  int64  \n",
      " 10  minimum_nights                  20000 non-null  int64  \n",
      " 11  number_of_reviews               20000 non-null  int64  \n",
      " 12  last_review                     15877 non-null  object \n",
      " 13  reviews_per_month               15877 non-null  float64\n",
      " 14  calculated_host_listings_count  20000 non-null  int64  \n",
      " 15  availability_365                20000 non-null  int64  \n",
      "dtypes: float64(3), int64(7), object(6)\n",
      "memory usage: 2.4+ MB\n"
     ]
    }
   ],
   "source": [
    "df.info()"
   ]
  },
  {
   "cell_type": "code",
   "execution_count": 7,
   "id": "ef5f0d45",
   "metadata": {},
   "outputs": [],
   "source": [
    "import pandas_profiling\n",
    "\n",
    "profile = pandas_profiling.ProfileReport(df)\n",
    "profile.to_widgets()"
   ]
  },
  {
   "cell_type": "code",
   "execution_count": 8,
   "id": "4dc9c425",
   "metadata": {},
   "outputs": [],
   "source": [
    "# Drop outliers\n",
    "min_price = 10\n",
    "max_price = 350\n",
    "idx = df['price'].between(min_price, max_price) # remove datapoint not within the min and max price\n",
    "df = df[idx].copy()\n",
    "# Convert last_review to datetime\n",
    "df['last_review'] = pd.to_datetime(df['last_review'])"
   ]
  },
  {
   "cell_type": "code",
   "execution_count": 9,
   "id": "a8f4b82b",
   "metadata": {},
   "outputs": [
    {
     "name": "stdout",
     "output_type": "stream",
     "text": [
      "<class 'pandas.core.frame.DataFrame'>\n",
      "Int64Index: 19001 entries, 0 to 19999\n",
      "Data columns (total 16 columns):\n",
      " #   Column                          Non-Null Count  Dtype         \n",
      "---  ------                          --------------  -----         \n",
      " 0   id                              19001 non-null  int64         \n",
      " 1   name                            18994 non-null  object        \n",
      " 2   host_id                         19001 non-null  int64         \n",
      " 3   host_name                       18993 non-null  object        \n",
      " 4   neighbourhood_group             19001 non-null  object        \n",
      " 5   neighbourhood                   19001 non-null  object        \n",
      " 6   latitude                        19001 non-null  float64       \n",
      " 7   longitude                       19001 non-null  float64       \n",
      " 8   room_type                       19001 non-null  object        \n",
      " 9   price                           19001 non-null  int64         \n",
      " 10  minimum_nights                  19001 non-null  int64         \n",
      " 11  number_of_reviews               19001 non-null  int64         \n",
      " 12  last_review                     15243 non-null  datetime64[ns]\n",
      " 13  reviews_per_month               15243 non-null  float64       \n",
      " 14  calculated_host_listings_count  19001 non-null  int64         \n",
      " 15  availability_365                19001 non-null  int64         \n",
      "dtypes: datetime64[ns](1), float64(3), int64(7), object(5)\n",
      "memory usage: 2.5+ MB\n"
     ]
    }
   ],
   "source": [
    "df.info()"
   ]
  },
  {
   "cell_type": "code",
   "execution_count": 10,
   "id": "04cb3818",
   "metadata": {},
   "outputs": [
    {
     "data": {
      "text/plain": [
       "304016"
      ]
     },
     "execution_count": 10,
     "metadata": {},
     "output_type": "execute_result"
    }
   ],
   "source": [
    "df.size"
   ]
  },
  {
   "cell_type": "code",
   "execution_count": 11,
   "id": "e9d1f305",
   "metadata": {},
   "outputs": [
    {
     "data": {
      "text/html": [
       "<br/>Waiting for W&B process to finish, PID 12107... <strong style=\"color:green\">(success).</strong>"
      ],
      "text/plain": [
       "<IPython.core.display.HTML object>"
      ]
     },
     "metadata": {},
     "output_type": "display_data"
    },
    {
     "data": {
      "text/html": [
       "<style>\n",
       "    table.wandb td:nth-child(1) { padding: 0 10px; text-align: right }\n",
       "    .wandb-row { display: flex; flex-direction: row; flex-wrap: wrap; width: 100% }\n",
       "    .wandb-col { display: flex; flex-direction: column; flex-basis: 100%; flex: 1; padding: 10px; }\n",
       "    </style>\n",
       "<div class=\"wandb-row\"><div class=\"wandb-col\">\n",
       "</div><div class=\"wandb-col\">\n",
       "</div></div>\n",
       "Synced 7 W&B file(s), 0 media file(s), 5 artifact file(s) and 1 other file(s)\n",
       "<br/>Synced <strong style=\"color:#cdcd00\">ethereal-spaceship-3</strong>: <a href=\"https://wandb.ai/leke/nyc_airbnb/runs/3zhaks3d\" target=\"_blank\">https://wandb.ai/leke/nyc_airbnb/runs/3zhaks3d</a><br/>\n",
       "Find logs at: <code>./wandb/run-20220402_162102-3zhaks3d/logs</code><br/>\n"
      ],
      "text/plain": [
       "<IPython.core.display.HTML object>"
      ]
     },
     "metadata": {},
     "output_type": "display_data"
    }
   ],
   "source": [
    "run.finish()"
   ]
  },
  {
   "cell_type": "code",
   "execution_count": null,
   "id": "244af2e6",
   "metadata": {},
   "outputs": [],
   "source": []
  }
 ],
 "metadata": {
  "kernelspec": {
   "display_name": "Python 3 (ipykernel)",
   "language": "python",
   "name": "python3"
  },
  "language_info": {
   "codemirror_mode": {
    "name": "ipython",
    "version": 3
   },
   "file_extension": ".py",
   "mimetype": "text/x-python",
   "name": "python",
   "nbconvert_exporter": "python",
   "pygments_lexer": "ipython3",
   "version": "3.9.12"
  }
 },
 "nbformat": 4,
 "nbformat_minor": 5
}
